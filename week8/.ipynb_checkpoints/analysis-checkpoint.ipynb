{
 "cells": [
  {
   "cell_type": "code",
   "execution_count": null,
   "id": "becbbe70",
   "metadata": {
    "vscode": {
     "languageId": "plaintext"
    }
   },
   "outputs": [],
   "source": [
    "\n",
    "# analysis.ipynb (simplified code blocks)\n",
    "\n",
    "import pandas as pd\n",
    "import matplotlib.pyplot as plt\n",
    "import seaborn as sns\n",
    "from collections import Counter\n",
    "import re\n",
    "from wordcloud import WordCloud\n",
    "\n",
    "# Load dataset\n",
    "df = pd.read_csv(\"metadata.csv\")\n",
    "df.head()\n",
    "\n",
    "# Explore dataset\n",
    "print(df.shape)\n",
    "print(df.info())\n",
    "print(df.isnull().sum().head(20))\n",
    "\n",
    "# Clean\n",
    "df['publish_time'] = pd.to_datetime(df['publish_time'], errors='coerce')\n",
    "df['year'] = df['publish_time'].dt.year\n",
    "df = df.dropna(subset=['title', 'abstract'])\n",
    "df['abstract_word_count'] = df['abstract'].apply(lambda x: len(str(x).split()))\n",
    "\n",
    "# Visualization 1 - Publications per year\n",
    "year_counts = df['year'].value_counts().sort_index()\n",
    "plt.bar(year_counts.index, year_counts.values)\n",
    "plt.title(\"Publications by Year\")\n",
    "plt.show()\n",
    "\n",
    "# Visualization 2 - Top Journals\n",
    "top_journals = df['journal'].value_counts().head(10)\n",
    "sns.barplot(x=top_journals.values, y=top_journals.index)\n",
    "plt.title(\"Top Journals\")\n",
    "plt.show()\n",
    "\n",
    "# Visualization 3 - Word frequency\n",
    "words = \" \".join(df['title'].dropna()).lower()\n",
    "words = re.findall(r'\\b\\w+\\b', words)\n",
    "common_words = Counter(words).most_common(20)\n",
    "print(common_words)\n",
    "\n",
    "# Visualization 4 - WordCloud\n",
    "wordcloud = WordCloud(width=800, height=400).generate(\" \".join(words))\n",
    "plt.imshow(wordcloud, interpolation=\"bilinear\")\n",
    "plt.axis(\"off\")\n",
    "plt.show()\n"
   ]
  }
 ],
 "metadata": {
  "language_info": {
   "name": "python"
  }
 },
 "nbformat": 4,
 "nbformat_minor": 5
}
